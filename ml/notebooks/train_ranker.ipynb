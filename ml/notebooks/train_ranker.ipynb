import pandas as pd
import numpy as np
import lightgbm as lgb
from sklearn.model_selection import train_test_split
from sklearn.metrics import ndcg_score
import pickle
import os
import sys

# Добавляем путь к Django проекту
sys.path.append('../')

# Настраиваем Django
os.environ.setdefault('DJANGO_SETTINGS_MODULE', 'tutors_platform.settings')
import django
django.setup()

from apps.tutors.models import TutorProfile
from apps.orders.models import Order, Application, Booking# Обучение модели ранжирования репетиторов

Этот notebook содержит код для обучения LightGBM модели ранжирования репетиторов на основе исторических данных о выборе студентов.